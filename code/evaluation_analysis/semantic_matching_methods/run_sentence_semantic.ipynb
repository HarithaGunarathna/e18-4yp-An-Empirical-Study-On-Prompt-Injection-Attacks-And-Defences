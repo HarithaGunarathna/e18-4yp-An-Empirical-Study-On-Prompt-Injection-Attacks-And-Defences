{
 "cells": [
  {
   "cell_type": "code",
   "execution_count": 1,
   "id": "9a775714-3b81-4660-bb6b-79e659876e5d",
   "metadata": {},
   "outputs": [
    {
     "name": "stdout",
     "output_type": "stream",
     "text": [
      "Collecting sentence-transformers\n",
      "  Downloading sentence_transformers-2.7.0-py3-none-any.whl (171 kB)\n",
      "\u001b[2K     \u001b[90m━━━━━━━━━━━━━━━━━━━━━━━━━━━━━━━━━━━━━━━\u001b[0m \u001b[32m171.5/171.5 kB\u001b[0m \u001b[31m8.4 MB/s\u001b[0m eta \u001b[36m0:00:00\u001b[0m\n",
      "\u001b[?25hRequirement already satisfied: tqdm in /opt/conda/envs/rapids/lib/python3.9/site-packages (from sentence-transformers) (4.64.1)\n",
      "Requirement already satisfied: scipy in /opt/conda/envs/rapids/lib/python3.9/site-packages (from sentence-transformers) (1.9.3)\n",
      "Requirement already satisfied: Pillow in /opt/conda/envs/rapids/lib/python3.9/site-packages (from sentence-transformers) (9.2.0)\n",
      "Requirement already satisfied: transformers<5.0.0,>=4.34.0 in /opt/conda/envs/rapids/lib/python3.9/site-packages (from sentence-transformers) (4.41.1)\n",
      "Requirement already satisfied: huggingface-hub>=0.15.1 in /opt/conda/envs/rapids/lib/python3.9/site-packages (from sentence-transformers) (0.23.1)\n",
      "Requirement already satisfied: numpy in /opt/conda/envs/rapids/lib/python3.9/site-packages (from sentence-transformers) (1.23.4)\n",
      "Requirement already satisfied: scikit-learn in /opt/conda/envs/rapids/lib/python3.9/site-packages (from sentence-transformers) (1.1.3)\n",
      "Requirement already satisfied: torch>=1.11.0 in /opt/conda/envs/rapids/lib/python3.9/site-packages (from sentence-transformers) (2.3.0)\n",
      "Requirement already satisfied: packaging>=20.9 in /opt/conda/envs/rapids/lib/python3.9/site-packages (from huggingface-hub>=0.15.1->sentence-transformers) (24.0)\n",
      "Requirement already satisfied: requests in /opt/conda/envs/rapids/lib/python3.9/site-packages (from huggingface-hub>=0.15.1->sentence-transformers) (2.31.0)\n",
      "Requirement already satisfied: fsspec>=2023.5.0 in /opt/conda/envs/rapids/lib/python3.9/site-packages (from huggingface-hub>=0.15.1->sentence-transformers) (2024.5.0)\n",
      "Requirement already satisfied: pyyaml>=5.1 in /opt/conda/envs/rapids/lib/python3.9/site-packages (from huggingface-hub>=0.15.1->sentence-transformers) (6.0)\n",
      "Requirement already satisfied: filelock in /opt/conda/envs/rapids/lib/python3.9/site-packages (from huggingface-hub>=0.15.1->sentence-transformers) (3.9.0)\n",
      "Requirement already satisfied: typing-extensions>=3.7.4.3 in /opt/conda/envs/rapids/lib/python3.9/site-packages (from huggingface-hub>=0.15.1->sentence-transformers) (4.12.0)\n",
      "Requirement already satisfied: nvidia-cusolver-cu12==11.4.5.107 in /opt/conda/envs/rapids/lib/python3.9/site-packages (from torch>=1.11.0->sentence-transformers) (11.4.5.107)\n",
      "Requirement already satisfied: nvidia-cublas-cu12==12.1.3.1 in /opt/conda/envs/rapids/lib/python3.9/site-packages (from torch>=1.11.0->sentence-transformers) (12.1.3.1)\n",
      "Requirement already satisfied: networkx in /opt/conda/envs/rapids/lib/python3.9/site-packages (from torch>=1.11.0->sentence-transformers) (2.6.3)\n",
      "Requirement already satisfied: nvidia-nccl-cu12==2.20.5 in /opt/conda/envs/rapids/lib/python3.9/site-packages (from torch>=1.11.0->sentence-transformers) (2.20.5)\n",
      "Requirement already satisfied: nvidia-cuda-runtime-cu12==12.1.105 in /opt/conda/envs/rapids/lib/python3.9/site-packages (from torch>=1.11.0->sentence-transformers) (12.1.105)\n",
      "Requirement already satisfied: nvidia-nvtx-cu12==12.1.105 in /opt/conda/envs/rapids/lib/python3.9/site-packages (from torch>=1.11.0->sentence-transformers) (12.1.105)\n",
      "Requirement already satisfied: nvidia-cudnn-cu12==8.9.2.26 in /opt/conda/envs/rapids/lib/python3.9/site-packages (from torch>=1.11.0->sentence-transformers) (8.9.2.26)\n",
      "Requirement already satisfied: nvidia-cusparse-cu12==12.1.0.106 in /opt/conda/envs/rapids/lib/python3.9/site-packages (from torch>=1.11.0->sentence-transformers) (12.1.0.106)\n",
      "Requirement already satisfied: nvidia-curand-cu12==10.3.2.106 in /opt/conda/envs/rapids/lib/python3.9/site-packages (from torch>=1.11.0->sentence-transformers) (10.3.2.106)\n",
      "Requirement already satisfied: triton==2.3.0 in /opt/conda/envs/rapids/lib/python3.9/site-packages (from torch>=1.11.0->sentence-transformers) (2.3.0)\n",
      "Requirement already satisfied: nvidia-cufft-cu12==11.0.2.54 in /opt/conda/envs/rapids/lib/python3.9/site-packages (from torch>=1.11.0->sentence-transformers) (11.0.2.54)\n",
      "Requirement already satisfied: nvidia-cuda-nvrtc-cu12==12.1.105 in /opt/conda/envs/rapids/lib/python3.9/site-packages (from torch>=1.11.0->sentence-transformers) (12.1.105)\n",
      "Requirement already satisfied: nvidia-cuda-cupti-cu12==12.1.105 in /opt/conda/envs/rapids/lib/python3.9/site-packages (from torch>=1.11.0->sentence-transformers) (12.1.105)\n",
      "Requirement already satisfied: sympy in /opt/conda/envs/rapids/lib/python3.9/site-packages (from torch>=1.11.0->sentence-transformers) (1.12)\n",
      "Requirement already satisfied: jinja2 in /opt/conda/envs/rapids/lib/python3.9/site-packages (from torch>=1.11.0->sentence-transformers) (3.1.2)\n",
      "Requirement already satisfied: nvidia-nvjitlink-cu12 in /opt/conda/envs/rapids/lib/python3.9/site-packages (from nvidia-cusolver-cu12==11.4.5.107->torch>=1.11.0->sentence-transformers) (12.5.40)\n",
      "Requirement already satisfied: safetensors>=0.4.1 in /opt/conda/envs/rapids/lib/python3.9/site-packages (from transformers<5.0.0,>=4.34.0->sentence-transformers) (0.4.3)\n",
      "Requirement already satisfied: regex!=2019.12.17 in /opt/conda/envs/rapids/lib/python3.9/site-packages (from transformers<5.0.0,>=4.34.0->sentence-transformers) (2024.5.15)\n",
      "Requirement already satisfied: tokenizers<0.20,>=0.19 in /opt/conda/envs/rapids/lib/python3.9/site-packages (from transformers<5.0.0,>=4.34.0->sentence-transformers) (0.19.1)\n",
      "Requirement already satisfied: joblib>=1.0.0 in /opt/conda/envs/rapids/lib/python3.9/site-packages (from scikit-learn->sentence-transformers) (1.2.0)\n",
      "Requirement already satisfied: threadpoolctl>=2.0.0 in /opt/conda/envs/rapids/lib/python3.9/site-packages (from scikit-learn->sentence-transformers) (3.1.0)\n",
      "Requirement already satisfied: MarkupSafe>=2.0 in /opt/conda/envs/rapids/lib/python3.9/site-packages (from jinja2->torch>=1.11.0->sentence-transformers) (2.1.1)\n",
      "Requirement already satisfied: certifi>=2017.4.17 in /opt/conda/envs/rapids/lib/python3.9/site-packages (from requests->huggingface-hub>=0.15.1->sentence-transformers) (2022.12.7)\n",
      "Requirement already satisfied: charset-normalizer<4,>=2 in /opt/conda/envs/rapids/lib/python3.9/site-packages (from requests->huggingface-hub>=0.15.1->sentence-transformers) (2.1.1)\n",
      "Requirement already satisfied: idna<4,>=2.5 in /opt/conda/envs/rapids/lib/python3.9/site-packages (from requests->huggingface-hub>=0.15.1->sentence-transformers) (3.4)\n",
      "Requirement already satisfied: urllib3<3,>=1.21.1 in /opt/conda/envs/rapids/lib/python3.9/site-packages (from requests->huggingface-hub>=0.15.1->sentence-transformers) (1.26.11)\n",
      "Requirement already satisfied: mpmath>=0.19 in /opt/conda/envs/rapids/lib/python3.9/site-packages (from sympy->torch>=1.11.0->sentence-transformers) (1.3.0)\n",
      "Installing collected packages: sentence-transformers\n",
      "Successfully installed sentence-transformers-2.7.0\n",
      "\u001b[33mWARNING: Running pip as the 'root' user can result in broken permissions and conflicting behaviour with the system package manager. It is recommended to use a virtual environment instead: https://pip.pypa.io/warnings/venv\u001b[0m\u001b[33m\n",
      "\u001b[0mNote: you may need to restart the kernel to use updated packages.\n"
     ]
    }
   ],
   "source": [
    "pip install -U sentence-transformers"
   ]
  },
  {
   "cell_type": "code",
   "execution_count": 1,
   "id": "8be41ccf-57ad-42ca-adc6-98c327e8b17c",
   "metadata": {},
   "outputs": [
    {
     "data": {
      "application/vnd.jupyter.widget-view+json": {
       "model_id": "8426b8ce791448cc8e1ddf7cbb730b62",
       "version_major": 2,
       "version_minor": 0
      },
      "text/plain": [
       "modules.json:   0%|          | 0.00/349 [00:00<?, ?B/s]"
      ]
     },
     "metadata": {},
     "output_type": "display_data"
    },
    {
     "data": {
      "application/vnd.jupyter.widget-view+json": {
       "model_id": "8540ab997baa497c85f21e113dcd3ff5",
       "version_major": 2,
       "version_minor": 0
      },
      "text/plain": [
       "config_sentence_transformers.json:   0%|          | 0.00/116 [00:00<?, ?B/s]"
      ]
     },
     "metadata": {},
     "output_type": "display_data"
    },
    {
     "data": {
      "application/vnd.jupyter.widget-view+json": {
       "model_id": "784d0fab737e41d396c4d6b0189f7d09",
       "version_major": 2,
       "version_minor": 0
      },
      "text/plain": [
       "README.md:   0%|          | 0.00/10.7k [00:00<?, ?B/s]"
      ]
     },
     "metadata": {},
     "output_type": "display_data"
    },
    {
     "data": {
      "application/vnd.jupyter.widget-view+json": {
       "model_id": "348263a10c824158b6d66f4eba6aceb0",
       "version_major": 2,
       "version_minor": 0
      },
      "text/plain": [
       "sentence_bert_config.json:   0%|          | 0.00/53.0 [00:00<?, ?B/s]"
      ]
     },
     "metadata": {},
     "output_type": "display_data"
    },
    {
     "name": "stderr",
     "output_type": "stream",
     "text": [
      "/opt/conda/envs/rapids/lib/python3.9/site-packages/huggingface_hub/file_download.py:1132: FutureWarning: `resume_download` is deprecated and will be removed in version 1.0.0. Downloads always resume when possible. If you want to force a new download, use `force_download=True`.\n",
      "  warnings.warn(\n"
     ]
    },
    {
     "data": {
      "application/vnd.jupyter.widget-view+json": {
       "model_id": "42dfad2f45944455b87e2e5cd31d18e7",
       "version_major": 2,
       "version_minor": 0
      },
      "text/plain": [
       "config.json:   0%|          | 0.00/612 [00:00<?, ?B/s]"
      ]
     },
     "metadata": {},
     "output_type": "display_data"
    },
    {
     "data": {
      "application/vnd.jupyter.widget-view+json": {
       "model_id": "ecf4a84a658047ee887b8c4cb61ed552",
       "version_major": 2,
       "version_minor": 0
      },
      "text/plain": [
       "model.safetensors:   0%|          | 0.00/90.9M [00:00<?, ?B/s]"
      ]
     },
     "metadata": {},
     "output_type": "display_data"
    },
    {
     "data": {
      "application/vnd.jupyter.widget-view+json": {
       "model_id": "d0ed750c535a444bb7e1057b5889d783",
       "version_major": 2,
       "version_minor": 0
      },
      "text/plain": [
       "tokenizer_config.json:   0%|          | 0.00/350 [00:00<?, ?B/s]"
      ]
     },
     "metadata": {},
     "output_type": "display_data"
    },
    {
     "data": {
      "application/vnd.jupyter.widget-view+json": {
       "model_id": "c71899c98a2e4931b5919e6c4620c299",
       "version_major": 2,
       "version_minor": 0
      },
      "text/plain": [
       "vocab.txt:   0%|          | 0.00/232k [00:00<?, ?B/s]"
      ]
     },
     "metadata": {},
     "output_type": "display_data"
    },
    {
     "data": {
      "application/vnd.jupyter.widget-view+json": {
       "model_id": "482b2b8fd7d5425994145b3a92b7a0b5",
       "version_major": 2,
       "version_minor": 0
      },
      "text/plain": [
       "tokenizer.json:   0%|          | 0.00/466k [00:00<?, ?B/s]"
      ]
     },
     "metadata": {},
     "output_type": "display_data"
    },
    {
     "data": {
      "application/vnd.jupyter.widget-view+json": {
       "model_id": "92feba9e35074414ba7a5d1a7bd38735",
       "version_major": 2,
       "version_minor": 0
      },
      "text/plain": [
       "special_tokens_map.json:   0%|          | 0.00/112 [00:00<?, ?B/s]"
      ]
     },
     "metadata": {},
     "output_type": "display_data"
    },
    {
     "data": {
      "application/vnd.jupyter.widget-view+json": {
       "model_id": "5b1bdabcff3b48e59b7f00611d9208b3",
       "version_major": 2,
       "version_minor": 0
      },
      "text/plain": [
       "1_Pooling/config.json:   0%|          | 0.00/190 [00:00<?, ?B/s]"
      ]
     },
     "metadata": {},
     "output_type": "display_data"
    }
   ],
   "source": [
    "from sentence_transformers import SentenceTransformer\n",
    "\n",
    "model = SentenceTransformer(\"all-MiniLM-L6-v2\")"
   ]
  },
  {
   "cell_type": "code",
   "execution_count": 2,
   "id": "1d5c4889-ee2f-4a6c-a1fc-4f8d3a0164cb",
   "metadata": {},
   "outputs": [],
   "source": [
    "sentences = [\n",
    "    \"This framework generates embeddings for each input sentence\",\n",
    "    \"Sentences are passed as a list of string.\",\n",
    "    \"The quick brown fox jumps over the lazy dog.\",\n",
    "]\n",
    "sentence_embeddings = model.encode(sentences)\n"
   ]
  },
  {
   "cell_type": "code",
   "execution_count": 3,
   "id": "a612b123-c83f-4793-bf6d-794025615560",
   "metadata": {},
   "outputs": [
    {
     "name": "stdout",
     "output_type": "stream",
     "text": [
      "Sentence: This framework generates embeddings for each input sentence\n",
      "Embedding: [-1.37173664e-02 -4.28515598e-02 -1.56286079e-02  1.40537219e-02\n",
      "  3.95537801e-02  1.21796273e-01  2.94333976e-02 -3.17523740e-02\n",
      "  3.54959555e-02 -7.93140084e-02  1.75878219e-02 -4.04369831e-02\n",
      "  4.97259796e-02  2.54912376e-02 -7.18699917e-02  8.14968348e-02\n",
      "  1.47072307e-03  4.79627065e-02 -4.50335890e-02 -9.92174745e-02\n",
      " -2.81769466e-02  6.45045787e-02  4.44670618e-02 -4.76217195e-02\n",
      " -3.52952629e-02  4.38671932e-02 -5.28565980e-02  4.33000532e-04\n",
      "  1.01921447e-01  1.64072383e-02  3.26996781e-02 -3.45986709e-02\n",
      "  1.21339327e-02  7.94871002e-02  4.58344072e-03  1.57778300e-02\n",
      " -9.68207978e-03  2.87625901e-02 -5.05806617e-02 -1.55793978e-02\n",
      " -2.87907328e-02 -9.62279737e-03  3.15556452e-02  2.27349512e-02\n",
      "  8.71449336e-02 -3.85027826e-02 -8.84718746e-02 -8.75497516e-03\n",
      " -2.12343037e-02  2.08923761e-02 -9.02078152e-02 -5.25732189e-02\n",
      " -1.05638802e-02  2.88310777e-02 -1.61454547e-02  6.17837068e-03\n",
      " -1.23234345e-02 -1.07337255e-02  2.83353683e-02 -5.28567545e-02\n",
      " -3.58617827e-02 -5.97989410e-02 -1.09055173e-02  2.91566923e-02\n",
      "  7.97979161e-02 -3.27882357e-04  6.83495030e-03  1.32718580e-02\n",
      " -4.24619541e-02  1.87656656e-02 -9.89234820e-02  2.09050346e-02\n",
      " -8.69605765e-02 -1.50152026e-02 -4.86202501e-02  8.04414600e-02\n",
      " -3.67702730e-03 -6.65044188e-02  1.14556774e-01 -3.04228831e-02\n",
      "  2.96631530e-02 -2.80694887e-02  4.64990325e-02 -2.25513782e-02\n",
      "  8.54222924e-02  3.15446705e-02  7.34541789e-02 -2.21861918e-02\n",
      " -5.29678948e-02  1.27130533e-02 -5.27339801e-02 -1.06188774e-01\n",
      "  7.04731718e-02  2.76736859e-02 -8.05531070e-02  2.39649490e-02\n",
      " -2.65125018e-02 -2.17331331e-02  4.35275398e-02  4.84712422e-02\n",
      " -2.37067342e-02  2.85768732e-02  1.11846149e-01 -6.34935871e-02\n",
      " -1.58318784e-02 -2.26169564e-02 -1.31028360e-02 -1.62069453e-03\n",
      " -3.60929146e-02 -9.78297144e-02 -4.67729457e-02  1.76272113e-02\n",
      " -3.97492573e-02 -1.76434783e-04  3.39627527e-02 -2.09633857e-02\n",
      "  6.33661170e-03 -2.59411130e-02  8.10410753e-02  6.14393540e-02\n",
      " -5.44598931e-03  6.48276433e-02 -1.16844051e-01  2.36860961e-02\n",
      " -1.32058673e-02 -1.12476416e-01  1.90049149e-02 -1.74658429e-34\n",
      "  5.58949634e-02  1.94244441e-02  4.65438962e-02  5.18645979e-02\n",
      "  3.89390476e-02  3.40540782e-02 -4.32114080e-02  7.90637583e-02\n",
      " -9.79530439e-02 -1.27441296e-02 -2.91870628e-02  1.02052474e-02\n",
      "  1.88115798e-02  1.08942538e-01  6.63465038e-02 -5.35295494e-02\n",
      " -3.29228751e-02  4.69826758e-02  2.28883475e-02  2.74114721e-02\n",
      " -2.91983597e-02  3.12706456e-02 -2.22850852e-02 -1.02282129e-01\n",
      " -2.79116482e-02  1.13793090e-02  9.06308889e-02 -4.75414433e-02\n",
      " -1.00718953e-01 -1.23231933e-02 -7.96928182e-02 -1.44636529e-02\n",
      " -7.76400641e-02 -7.66918156e-03  9.73955542e-03  2.24204510e-02\n",
      "  7.77267888e-02 -3.17159039e-03  2.11538319e-02 -3.30394283e-02\n",
      "  9.55249090e-03 -3.73012237e-02  2.61360332e-02 -9.79083683e-03\n",
      " -6.31505325e-02  5.77436760e-03 -3.80031243e-02  1.29684266e-02\n",
      " -1.82498805e-02 -1.56282634e-02 -1.23362627e-03  5.55579476e-02\n",
      "  1.13117763e-04 -5.61256707e-02  7.40165412e-02  1.84451845e-02\n",
      " -2.66368408e-02  1.31951608e-02  7.50086755e-02 -2.46797390e-02\n",
      " -3.24006118e-02 -1.57674905e-02 -8.03515967e-03 -5.61319385e-03\n",
      "  1.05688041e-02  3.26168956e-03 -3.91989872e-02 -9.38676968e-02\n",
      "  1.14227153e-01  6.57304749e-02 -4.72633839e-02  1.45088090e-02\n",
      " -3.54490466e-02 -3.37761380e-02 -5.15505597e-02 -3.80998454e-03\n",
      " -5.15036471e-02 -5.93429655e-02 -1.69416144e-03  7.42107332e-02\n",
      " -4.20091264e-02 -7.19974786e-02  3.17250229e-02 -1.66303311e-02\n",
      "  3.96983698e-03 -6.52750507e-02  2.77391113e-02 -7.51649588e-02\n",
      "  2.27456205e-02 -3.91367860e-02  1.54315829e-02 -5.54908663e-02\n",
      "  1.23318331e-02 -2.59520523e-02  6.66423365e-02 -6.91261070e-34\n",
      "  3.31628881e-02  8.47928897e-02 -6.65584132e-02  3.33541371e-02\n",
      "  4.71609551e-03  1.35362046e-02 -5.38694635e-02  9.20694098e-02\n",
      " -2.96876729e-02  3.16219367e-02 -2.37497240e-02  1.98771264e-02\n",
      "  1.03446200e-01 -9.06947330e-02  6.30623847e-03  1.42886387e-02\n",
      "  1.19293295e-02  6.43723458e-03  4.20104451e-02  1.25344582e-02\n",
      "  3.93019468e-02  5.35691641e-02 -4.30749841e-02  6.10432364e-02\n",
      " -5.39335306e-05  6.91682622e-02  1.05520273e-02  1.22111244e-02\n",
      " -7.23185465e-02  2.50469577e-02 -5.18370941e-02 -4.36562337e-02\n",
      " -6.71818480e-02  1.34828268e-02 -7.25888908e-02  7.04162335e-03\n",
      "  6.58939332e-02  1.08994097e-02 -2.60010175e-03  5.49968965e-02\n",
      "  5.06966859e-02  3.27948332e-02 -6.68833405e-02  6.45556748e-02\n",
      " -2.52076425e-02 -2.92572062e-02 -1.16696700e-01  3.24064679e-02\n",
      "  5.85858561e-02 -3.51756513e-02 -7.15240315e-02  2.24936027e-02\n",
      " -1.00786731e-01 -4.74545024e-02 -7.61962458e-02 -5.87166436e-02\n",
      "  4.21138667e-02 -7.47214109e-02  1.98468212e-02 -3.36505868e-03\n",
      " -5.29736392e-02  2.74729244e-02  3.45736593e-02 -6.11846969e-02\n",
      "  1.06364772e-01 -9.64120105e-02 -4.55945246e-02  1.51490299e-02\n",
      " -5.13532897e-03 -6.64447770e-02  4.31721359e-02 -1.10405935e-02\n",
      " -9.80251096e-03  7.53783360e-02 -1.49571057e-02 -4.80208658e-02\n",
      "  5.80726787e-02 -2.43896954e-02 -2.23137811e-02 -4.36992273e-02\n",
      "  5.12054376e-02 -3.28625776e-02  1.08763330e-01  6.08926229e-02\n",
      "  3.30793438e-03  5.53819835e-02  8.43201131e-02  1.27087040e-02\n",
      "  3.84465717e-02  6.52325824e-02 -2.94683538e-02  5.08005582e-02\n",
      " -2.09348239e-02  1.46135658e-01  2.25561857e-02 -1.77227797e-08\n",
      " -5.02672717e-02 -2.79211759e-04 -1.00328602e-01  2.42811330e-02\n",
      " -7.54043385e-02 -3.79139893e-02  3.96049991e-02  3.10079642e-02\n",
      " -9.05704871e-03 -6.50411993e-02  4.05453406e-02  4.83390205e-02\n",
      " -4.56962213e-02  4.76004882e-03  2.64362455e-03  9.35614109e-02\n",
      " -4.02599126e-02  3.27402093e-02  1.18298410e-02  5.54344878e-02\n",
      "  1.48052201e-01  7.21189231e-02  2.77026906e-04  1.68651268e-02\n",
      "  8.34880304e-03 -8.76153819e-03 -1.33649278e-02  6.14236705e-02\n",
      "  1.57167781e-02  6.94961250e-02  1.08621586e-02  6.08018525e-02\n",
      " -5.33421449e-02 -3.47924642e-02 -3.36272269e-02  6.93907216e-02\n",
      "  1.22987758e-02 -1.45237371e-01 -2.06969026e-03 -4.61133160e-02\n",
      "  3.72746703e-03 -5.59355365e-03 -1.00659847e-01 -4.45953123e-02\n",
      "  5.40921390e-02  4.98895487e-03  1.49534456e-02 -8.26058760e-02\n",
      "  6.26630709e-02 -5.01911342e-03 -4.81857955e-02 -3.53990868e-02\n",
      "  9.03388485e-03 -2.42337417e-02  5.66267110e-02  2.51529086e-02\n",
      " -1.70709565e-02 -1.24780107e-02  3.19518000e-02  1.38420956e-02\n",
      " -1.55815026e-02  1.00178272e-01  1.23657271e-01 -4.22967188e-02]\n",
      "\n",
      "Sentence: Sentences are passed as a list of string.\n",
      "Embedding: [ 5.64524606e-02  5.50023578e-02  3.13795991e-02  3.39484960e-02\n",
      " -3.54247056e-02  8.34667534e-02  9.88800600e-02  7.27545470e-03\n",
      " -6.68654265e-03 -7.65807228e-03  7.93738440e-02  7.39721523e-04\n",
      "  1.49291912e-02 -1.51046850e-02  3.67674716e-02  4.78743240e-02\n",
      " -4.81969751e-02 -3.76052223e-02 -4.60278317e-02 -8.89815837e-02\n",
      "  1.20228186e-01  1.30663291e-01 -3.73936184e-02  2.47855787e-03\n",
      "  2.55823531e-03  7.25814924e-02 -6.80436715e-02 -5.24696112e-02\n",
      "  4.90234718e-02  2.99563631e-02 -5.84429801e-02 -2.02262867e-02\n",
      "  2.08822154e-02  9.76692140e-02  3.52390409e-02  3.91141102e-02\n",
      "  1.05668129e-02  1.56230049e-03 -1.30822668e-02  8.52903910e-03\n",
      " -4.84095281e-03 -2.03766190e-02 -2.71801166e-02  2.83307880e-02\n",
      "  3.66017930e-02  2.51276363e-02 -9.90862250e-02  1.15626538e-02\n",
      " -3.60380858e-02 -7.23783746e-02 -1.12670131e-01  1.12942271e-02\n",
      " -3.86397205e-02  4.67386171e-02 -2.88460664e-02  2.26704068e-02\n",
      " -8.52402393e-03  3.32815237e-02 -1.06581382e-03 -7.09744692e-02\n",
      " -6.31170273e-02 -5.72186746e-02 -6.16026856e-02  5.47146648e-02\n",
      "  1.18317921e-02 -4.66261320e-02  2.56960113e-02 -7.07417913e-03\n",
      " -5.73842973e-02  4.12839092e-02 -5.91504015e-02  5.89021593e-02\n",
      " -4.41697761e-02  4.65082005e-02 -3.15814875e-02  5.58312237e-02\n",
      "  5.54578751e-02 -5.96533380e-02  4.06407490e-02  4.83761961e-03\n",
      " -4.96768132e-02 -1.00944348e-01  3.40078473e-02  4.13273275e-03\n",
      " -2.93526007e-03  2.11837478e-02 -3.73962186e-02 -2.79067177e-02\n",
      " -4.61767875e-02  5.26138842e-02 -2.79734787e-02 -1.62379324e-01\n",
      "  6.61042556e-02  1.72274616e-02 -5.45108318e-03  4.74473909e-02\n",
      " -3.82237509e-02 -3.96896601e-02  1.34545546e-02  4.49654236e-02\n",
      "  4.53674886e-03  2.82978471e-02  8.36633593e-02 -1.00858053e-02\n",
      " -1.19354017e-01 -3.84624638e-02  4.82858643e-02 -9.46083665e-02\n",
      "  1.91854276e-02 -9.96518508e-02 -6.30596727e-02  3.02696265e-02\n",
      "  1.17402356e-02 -4.78372872e-02 -6.20274851e-03 -3.32850628e-02\n",
      " -4.04390180e-03  1.28307287e-02  4.05254997e-02  7.56476745e-02\n",
      "  2.92434897e-02  2.84270495e-02 -2.78938245e-02  1.66858118e-02\n",
      " -2.47961618e-02 -6.83651045e-02  2.89968252e-02 -5.39867895e-33\n",
      " -2.69012665e-03 -2.65068952e-02 -6.47938345e-04 -8.46201088e-03\n",
      " -7.35154822e-02  4.94085206e-03 -5.97842038e-02  1.03437994e-02\n",
      "  2.12901854e-03 -2.88214721e-03 -3.17076668e-02 -9.42363888e-02\n",
      "  3.03019732e-02  7.00227022e-02  4.50685509e-02  3.69439125e-02\n",
      "  1.13593768e-02  3.53027359e-02  5.50451316e-03  1.34417403e-03\n",
      "  3.46119911e-03  7.75048062e-02  5.45112714e-02 -7.92055801e-02\n",
      " -9.31696594e-02 -4.03398424e-02  3.10668796e-02 -3.83081771e-02\n",
      " -5.89442886e-02  1.93332136e-02 -2.67160106e-02 -7.91938081e-02\n",
      "  1.04221734e-04  7.70621076e-02  4.16603908e-02  8.90932381e-02\n",
      "  3.56843062e-02 -1.09153017e-02  3.71498466e-02 -2.07070652e-02\n",
      " -2.46100761e-02 -2.05025524e-02  2.62201503e-02  3.43590342e-02\n",
      "  4.39250655e-02 -8.20519030e-03 -8.40710700e-02  4.24170792e-02\n",
      "  4.87499014e-02  5.95384464e-02  2.87747849e-02  3.37638520e-02\n",
      " -4.07442562e-02 -1.66371907e-03  7.91927949e-02  3.41088660e-02\n",
      " -5.72857272e-04  1.87749583e-02 -1.36964163e-02  7.38333017e-02\n",
      "  5.74487785e-04  8.33505392e-02  5.60811125e-02 -1.13711152e-02\n",
      "  4.42611426e-02  2.69582085e-02 -4.80536371e-02 -3.15087289e-02\n",
      "  7.75226206e-02  1.81773491e-02 -8.83005485e-02 -7.85516761e-03\n",
      " -6.22243732e-02  7.19372630e-02 -2.33475044e-02  6.52481150e-03\n",
      " -9.49528441e-03 -9.88312364e-02  4.01306227e-02  3.07396557e-02\n",
      " -2.21607052e-02 -9.45911407e-02  1.02368053e-02  1.02187723e-01\n",
      " -4.12960239e-02 -3.15777995e-02  4.74751629e-02 -1.10209838e-01\n",
      "  1.69614442e-02 -3.71709391e-02 -1.03261946e-02 -4.72538657e-02\n",
      " -1.20214494e-02 -1.93255171e-02  5.79292327e-02  4.23866641e-34\n",
      "  3.92012894e-02  8.41361433e-02 -1.02946781e-01  6.92259893e-02\n",
      "  1.68820694e-02 -3.26760523e-02  9.65957716e-03  1.80899389e-02\n",
      "  2.17939783e-02  1.63188763e-02 -9.69292596e-02  3.74850677e-03\n",
      " -2.38457303e-02 -3.44056040e-02  7.11962283e-02  9.21926403e-04\n",
      " -6.23864913e-03  3.23754437e-02 -8.90396768e-04  5.01903938e-03\n",
      " -4.24537845e-02  9.89083946e-02 -4.60320972e-02  4.69704829e-02\n",
      " -1.75283905e-02 -7.02519482e-03  1.32743726e-02 -5.30152246e-02\n",
      "  2.66402890e-03  1.45819215e-02  7.43345637e-03 -3.07132043e-02\n",
      " -2.09416728e-02  8.24109763e-02 -5.15894517e-02 -2.71178074e-02\n",
      "  1.17583036e-01  7.72505300e-03 -1.89522598e-02  3.94559614e-02\n",
      "  7.17360601e-02  2.59117205e-02  2.75192391e-02  9.50541534e-03\n",
      " -3.02355383e-02 -4.07944508e-02 -1.04028501e-01 -7.97415897e-03\n",
      " -3.64458514e-03  3.29715610e-02 -2.35954709e-02 -7.50518730e-03\n",
      " -5.82233779e-02 -3.17906514e-02 -4.18049172e-02  2.17453111e-02\n",
      " -6.67292476e-02 -4.89104316e-02  4.58516181e-03 -2.66046766e-02\n",
      " -1.12597063e-01  5.11167236e-02  5.48533946e-02 -6.69856891e-02\n",
      "  1.26766279e-01 -8.59487727e-02 -5.94231449e-02 -2.92190723e-03\n",
      " -1.14875482e-02 -1.26025885e-01 -3.48279136e-03 -9.12002102e-02\n",
      " -1.22933082e-01  1.33777419e-02 -4.75775562e-02 -6.57932982e-02\n",
      " -3.39409783e-02 -3.07108071e-02 -5.22034355e-02 -2.35463753e-02\n",
      "  5.90035543e-02 -3.85757983e-02  3.19700949e-02  4.05118763e-02\n",
      "  1.67077761e-02 -3.58281247e-02  1.45687852e-02  3.20137925e-02\n",
      " -1.34844305e-02  6.07819967e-02 -8.31402373e-03 -1.08105615e-02\n",
      "  4.69410717e-02  7.66134188e-02 -4.23400141e-02 -2.11963371e-08\n",
      " -7.25292638e-02 -4.20227349e-02 -6.12374581e-02  5.24666533e-02\n",
      " -1.42363617e-02  1.18487338e-02 -1.40788592e-02 -3.67529802e-02\n",
      " -4.44977507e-02 -1.15141300e-02  5.23317158e-02  2.96652205e-02\n",
      " -4.62780967e-02 -3.70893031e-02  1.89129673e-02  2.04307716e-02\n",
      " -2.24006232e-02 -1.48562789e-02 -1.79504063e-02  4.20007966e-02\n",
      "  1.40942568e-02 -2.83492431e-02 -1.16863012e-01  1.48957139e-02\n",
      " -7.30613072e-04  5.66028655e-02 -2.68739704e-02  1.09106749e-01\n",
      "  2.94562452e-03  1.19267918e-01  1.14212394e-01  8.92973989e-02\n",
      " -1.70255769e-02 -4.99053672e-02 -2.11931039e-02  3.18421535e-02\n",
      "  7.03435764e-02 -1.02929458e-01  8.23816732e-02  2.81968266e-02\n",
      "  3.21146771e-02  3.79108153e-02 -1.09553128e-01  8.19620490e-02\n",
      "  8.73216614e-02 -5.73563240e-02 -2.01708768e-02 -5.69444001e-02\n",
      " -1.30338520e-02 -5.55684455e-02 -1.32966293e-02  8.64009000e-03\n",
      "  5.30011952e-02 -4.06846739e-02  2.71708984e-02 -2.55944300e-03\n",
      "  3.05775367e-02 -4.61865179e-02  4.68035229e-03 -3.64947096e-02\n",
      "  6.80802315e-02  6.65087774e-02  8.49152356e-02 -3.32849510e-02]\n",
      "\n",
      "Sentence: The quick brown fox jumps over the lazy dog.\n",
      "Embedding: [ 4.39335629e-02  5.89343905e-02  4.81783785e-02  7.75480941e-02\n",
      "  2.67444365e-02 -3.76296043e-02 -2.60508736e-03 -5.99431098e-02\n",
      " -2.49601435e-03  2.20728368e-02  4.80259731e-02  5.57553135e-02\n",
      " -3.89454477e-02 -2.66168248e-02  7.69340200e-03 -2.62376722e-02\n",
      " -3.64160426e-02 -3.78161483e-02  7.40781277e-02 -4.95050251e-02\n",
      " -5.85216992e-02 -6.36196807e-02  3.24350186e-02  2.20085401e-02\n",
      " -7.10637867e-02 -3.31577659e-02 -6.94103763e-02 -5.00374399e-02\n",
      "  7.46268407e-02 -1.11133814e-01 -1.23063326e-02  3.77456434e-02\n",
      " -2.80313343e-02  1.45353507e-02 -3.15585621e-02 -8.05836245e-02\n",
      "  5.83525822e-02  2.59008608e-03  3.92802469e-02  2.57696155e-02\n",
      "  4.98505831e-02 -1.75622152e-03 -4.55297790e-02  2.92607676e-02\n",
      " -1.02017246e-01  5.22287488e-02 -7.90899768e-02 -1.02857817e-02\n",
      "  9.20246914e-03  1.30732218e-02 -4.04777750e-02 -2.77924929e-02\n",
      "  1.24667538e-02  6.72832876e-02  6.81248084e-02 -7.57119758e-03\n",
      " -6.09946158e-03 -4.23776805e-02  5.17815873e-02 -1.56707317e-02\n",
      "  9.56355222e-03  4.12390232e-02  2.14959327e-02  1.04293386e-02\n",
      "  2.73349527e-02  1.87062249e-02 -2.69607399e-02 -7.00542256e-02\n",
      " -1.04700461e-01 -1.89880317e-03  1.77017152e-02 -5.74725382e-02\n",
      " -1.44222928e-02  4.70502186e-04  2.33227341e-03 -2.51920447e-02\n",
      "  4.93004024e-02 -5.09609729e-02  6.31983131e-02  1.49165532e-02\n",
      " -2.70766653e-02 -4.52875681e-02 -4.90593761e-02  3.74941118e-02\n",
      "  3.84579860e-02  1.56901125e-03  3.09922490e-02  2.01630313e-02\n",
      " -1.24363303e-02 -3.06719635e-02 -2.78819278e-02 -6.89182803e-02\n",
      " -5.13677187e-02  2.14795433e-02  1.15746912e-02  1.25407986e-03\n",
      "  1.88765842e-02 -4.42318805e-02 -4.49817218e-02 -3.41867330e-03\n",
      "  1.31131271e-02  2.00099405e-02  1.21099778e-01  2.31074858e-02\n",
      " -2.20159814e-02 -3.28846835e-02 -3.15510598e-03  1.17816264e-04\n",
      "  9.91498828e-02  1.65238883e-02 -4.69669420e-03 -1.45366704e-02\n",
      " -3.71078891e-03  9.65136066e-02  2.85908282e-02  2.13482101e-02\n",
      " -7.17645139e-02 -2.41142195e-02 -4.40940447e-02 -1.07346892e-01\n",
      "  6.79945424e-02  1.30466759e-01 -7.97029734e-02  6.79509481e-03\n",
      " -2.37512030e-02 -4.61636409e-02 -2.99650580e-02 -3.69410120e-33\n",
      "  7.30969831e-02 -2.20172163e-02 -8.61464664e-02 -7.14379922e-02\n",
      " -6.36741221e-02 -7.21863061e-02 -5.93040837e-03 -2.33641900e-02\n",
      " -2.83658486e-02  4.77434956e-02 -8.06176439e-02 -1.56479725e-03\n",
      "  1.38444044e-02 -2.86235902e-02 -3.35387103e-02 -1.13777533e-01\n",
      " -9.17635858e-03 -1.08101396e-02  3.23196352e-02  5.88380545e-02\n",
      "  3.34209353e-02  1.07987933e-01 -3.72713394e-02 -2.96770521e-02\n",
      "  5.17189614e-02 -2.25338787e-02 -6.96091279e-02 -2.14475058e-02\n",
      " -2.33410541e-02  4.82199937e-02 -3.58766317e-02 -4.68990989e-02\n",
      " -3.97873372e-02  1.10813275e-01 -1.43007515e-02 -1.18464492e-01\n",
      "  5.82915172e-02 -6.25889152e-02 -2.94040702e-02  6.03238158e-02\n",
      " -2.44415458e-03  1.60116274e-02  2.67233029e-02  2.49530468e-02\n",
      " -6.49318919e-02 -1.06802480e-02  2.81464309e-02  1.03562996e-02\n",
      " -6.63596089e-04  1.98186487e-02 -3.04288361e-02  6.28422154e-03\n",
      "  5.15268333e-02 -4.75375429e-02 -6.44421503e-02  9.55032110e-02\n",
      "  7.55858421e-02 -2.81574856e-02 -3.49966027e-02  1.01816453e-01\n",
      "  1.98732335e-02 -3.68036740e-02  2.93523143e-03 -5.00745215e-02\n",
      "  1.50932148e-01 -6.16079532e-02 -8.58812928e-02  7.13993236e-03\n",
      " -1.33065656e-02  7.80404583e-02  1.75250340e-02  4.21279222e-02\n",
      "  3.57939899e-02 -1.32950410e-01  3.56970169e-02 -2.03116629e-02\n",
      "  1.24910073e-02 -3.80354784e-02  4.91543561e-02 -1.56540740e-02\n",
      "  1.21418260e-01 -8.08644369e-02 -4.68781404e-02  4.10843045e-02\n",
      " -1.84318237e-02  6.69691041e-02  4.33594035e-03  2.27314997e-02\n",
      " -1.36429006e-02 -4.53238338e-02 -3.92829552e-02 -6.29894668e-03\n",
      "  5.29609583e-02 -3.69064920e-02  7.11677223e-02  2.33343398e-33\n",
      "  1.05231375e-01 -4.81874160e-02  6.95919022e-02  6.56976104e-02\n",
      " -4.65149656e-02  5.14492504e-02 -1.24475108e-02  3.20871770e-02\n",
      " -9.23356563e-02  5.00932597e-02 -3.28876600e-02  1.39139164e-02\n",
      " -8.70235206e-04 -4.90903202e-03  1.03946395e-01  3.21652624e-04\n",
      "  5.28110005e-02 -1.17990337e-02  2.31565330e-02  1.31767839e-02\n",
      " -5.25963195e-02  3.26701812e-02  3.08733346e-04  6.41128793e-02\n",
      "  3.88500653e-02  5.88008538e-02  8.29793140e-02 -1.88149586e-02\n",
      " -2.26376969e-02 -1.00473635e-01 -3.83752733e-02 -5.88081442e-02\n",
      "  1.82421878e-03 -4.26995531e-02  2.50194836e-02  6.40059710e-02\n",
      " -3.77483182e-02 -6.83902111e-03 -2.54603266e-03 -9.76042747e-02\n",
      "  1.88476015e-02 -8.83222674e-04  1.73611939e-02  7.10790232e-02\n",
      "  3.30393016e-02  6.93428190e-03 -5.60523197e-02  5.14634363e-02\n",
      " -4.29542214e-02  4.60076779e-02 -8.78833421e-03  3.17289308e-02\n",
      "  4.93965819e-02  2.95190047e-02 -5.05192243e-02 -5.43186776e-02\n",
      "  1.49993837e-04 -2.76614055e-02  3.46877985e-02 -2.10890062e-02\n",
      "  1.38060702e-02  2.99886726e-02  1.39744813e-02 -4.26468253e-03\n",
      " -1.50337089e-02 -8.76095146e-02 -6.85053468e-02 -4.28141654e-02\n",
      "  7.76945427e-02 -7.10285529e-02 -7.37693161e-03  2.13727541e-02\n",
      "  1.35562588e-02 -7.90464655e-02  5.47669223e-03  8.30663890e-02\n",
      "  1.14148036e-01  1.80762005e-03  8.75491053e-02 -4.16044854e-02\n",
      "  1.55416587e-02 -1.01206359e-02 -7.32438266e-03  1.07965488e-02\n",
      " -6.62816837e-02  3.98413800e-02 -1.16711542e-01  6.42993972e-02\n",
      "  4.02919836e-02 -6.54741675e-02  1.95052382e-02  8.09995905e-02\n",
      "  5.36463112e-02  7.67969713e-02 -1.34852324e-02 -1.76919084e-08\n",
      " -4.43935096e-02  9.20642633e-03 -8.79590437e-02  4.26921472e-02\n",
      "  7.31365234e-02  1.68427471e-02 -4.03263085e-02  1.85131244e-02\n",
      "  8.44172239e-02 -3.74477394e-02  3.02996598e-02  2.90641729e-02\n",
      "  6.36878759e-02  2.89750118e-02 -1.47269927e-02  1.77542549e-02\n",
      " -3.36895324e-02  1.73161123e-02  3.37875336e-02  1.76826075e-01\n",
      " -1.75533611e-02 -6.03077784e-02 -1.43394526e-02 -2.38536522e-02\n",
      " -4.45530675e-02 -2.89850514e-02 -8.96776468e-02 -1.75934879e-03\n",
      " -2.61486061e-02  5.93995396e-03 -5.18355221e-02  8.57279748e-02\n",
      " -8.18398893e-02  8.35441891e-03  4.00790349e-02  4.17764410e-02\n",
      "  1.04573540e-01 -2.86565442e-03  1.96691006e-02  5.81047917e-03\n",
      "  1.33253466e-02  4.51001041e-02 -2.17588264e-02 -1.39493020e-02\n",
      " -6.86992258e-02 -2.94106919e-03 -3.10765170e-02 -1.05854414e-01\n",
      "  6.91623837e-02 -4.24114354e-02 -4.67682369e-02 -3.64751145e-02\n",
      "  4.50400114e-02  6.09816760e-02 -6.56561479e-02 -5.45643549e-03\n",
      " -1.86226908e-02 -6.31484762e-02 -3.87437120e-02  3.46733592e-02\n",
      "  5.55457920e-02  5.21628000e-02  5.61064929e-02  1.02063954e-01]\n",
      "\n"
     ]
    }
   ],
   "source": [
    "for sentence, embedding in zip(sentences, sentence_embeddings):\n",
    "    print(\"Sentence:\", sentence)\n",
    "    print(\"Embedding:\", embedding)\n",
    "    print(\"\")"
   ]
  },
  {
   "cell_type": "code",
   "execution_count": null,
   "id": "78e26917-4239-48c6-badd-bfe63877c1e8",
   "metadata": {},
   "outputs": [],
   "source": []
  }
 ],
 "metadata": {
  "kernelspec": {
   "display_name": "Python 3 (ipykernel)",
   "language": "python",
   "name": "python3"
  },
  "language_info": {
   "codemirror_mode": {
    "name": "ipython",
    "version": 3
   },
   "file_extension": ".py",
   "mimetype": "text/x-python",
   "name": "python",
   "nbconvert_exporter": "python",
   "pygments_lexer": "ipython3",
   "version": "3.9.13"
  }
 },
 "nbformat": 4,
 "nbformat_minor": 5
}
